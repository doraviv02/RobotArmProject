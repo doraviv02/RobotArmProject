{
 "cells": [
  {
   "cell_type": "code",
   "id": "initial_id",
   "metadata": {
    "collapsed": true,
    "ExecuteTime": {
     "end_time": "2024-05-29T16:19:32.295447Z",
     "start_time": "2024-05-29T16:19:32.204581Z"
    }
   },
   "source": [
    "import numpy as np\n",
    "\n",
    "# Our Code\n",
    "import camera_control\n",
    "\n",
    "\n",
    "from xarm.wrapper import XArmAPI"
   ],
   "outputs": [
    {
     "name": "stdout",
     "output_type": "stream",
     "text": [
      "SDK_VERSION: 1.13.15\n"
     ]
    }
   ],
   "execution_count": 1
  },
  {
   "metadata": {
    "ExecuteTime": {
     "end_time": "2024-05-29T16:19:32.315405Z",
     "start_time": "2024-05-29T16:19:32.297642Z"
    }
   },
   "cell_type": "code",
   "source": [
    "arm = XArmAPI('192.168.1.165')\n",
    "arm.connect()"
   ],
   "id": "d4ed6d974b4c461a",
   "outputs": [
    {
     "name": "stdout",
     "output_type": "stream",
     "text": [
      "ROBOT_IP: 192.168.1.165, VERSION: v2.4.0, PROTOCOL: V1, DETAIL: 6,9,LI1003,DL1000,v2.4.0, TYPE1300: [0, 0]\n",
      "change protocol identifier to 3\n"
     ]
    }
   ],
   "execution_count": 2
  },
  {
   "metadata": {
    "ExecuteTime": {
     "end_time": "2024-05-29T16:19:49.876844Z",
     "start_time": "2024-05-29T16:19:49.874167Z"
    }
   },
   "cell_type": "code",
   "source": [
    "# Model Parameters\n",
    "\n",
    "max_iteration = 2000\n",
    "\n",
    "robot_coords = np.float32([[120.6, -250.9], [126, 251.5], [349.4, -255.6], [352.2, 251.2]])\n",
    "image_coords = np.float32([[0, 0], [1040, 0], [0, 520], [1040, 520]])\n",
    "\n",
    "\n",
    "M, top_points = camera_control.detect_aruco()\n",
    "M_table_to_robot = find_robot_transformation()\n",
    "\n"
   ],
   "id": "2f5a71d07b8f51a4",
   "outputs": [],
   "execution_count": 2
  },
  {
   "metadata": {},
   "cell_type": "code",
   "outputs": [],
   "execution_count": null,
   "source": [
    "i = 0\n",
    "while (i<max_iteration):\n",
    "    "
   ],
   "id": "c210e46cf2f6da1d"
  }
 ],
 "metadata": {
  "kernelspec": {
   "display_name": "Python 3",
   "language": "python",
   "name": "python3"
  },
  "language_info": {
   "codemirror_mode": {
    "name": "ipython",
    "version": 2
   },
   "file_extension": ".py",
   "mimetype": "text/x-python",
   "name": "python",
   "nbconvert_exporter": "python",
   "pygments_lexer": "ipython2",
   "version": "2.7.6"
  }
 },
 "nbformat": 4,
 "nbformat_minor": 5
}
