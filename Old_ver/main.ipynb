{
 "cells": [
  {
   "cell_type": "code",
   "id": "initial_id",
   "metadata": {
    "collapsed": true,
    "ExecuteTime": {
     "end_time": "2024-05-29T16:49:56.709147Z",
     "start_time": "2024-05-29T16:49:56.706092Z"
    }
   },
   "source": [
    "import numpy as np\n",
    "import cv2\n",
    "from datetime import datetime, timezone\n",
    "\n",
    "import Segmentation.U_2_Net.u2net_test as u2net\n",
    "import Segmentation.find_instances as find_instances\n",
    "import Segmentation.top_finder as top_finder\n",
    "import Robot_Control.block_stack as block_stack\n",
    "\n",
    "# Our Code\n",
    "import camera_control\n",
    "import Robot_Control.block_stack as block_stack\n",
    "\n",
    "from xarm.wrapper import XArmAPI"
   ],
   "outputs": [],
   "execution_count": 2
  },
  {
   "metadata": {
    "ExecuteTime": {
     "end_time": "2024-05-29T16:19:32.315405Z",
     "start_time": "2024-05-29T16:19:32.297642Z"
    }
   },
   "cell_type": "code",
   "source": [
    "arm = XArmAPI('192.168.1.165')\n",
    "arm.connect()"
   ],
   "id": "d4ed6d974b4c461a",
   "outputs": [
    {
     "name": "stdout",
     "output_type": "stream",
     "text": [
      "ROBOT_IP: 192.168.1.165, VERSION: v2.4.0, PROTOCOL: V1, DETAIL: 6,9,LI1003,DL1000,v2.4.0, TYPE1300: [0, 0]\n",
      "change protocol identifier to 3\n"
     ]
    }
   ],
   "execution_count": 2
  },
  {
   "metadata": {
    "jupyter": {
     "is_executing": true
    }
   },
   "cell_type": "code",
   "source": [
    "# Model Parameters\n",
    "\n",
    "max_iteration = 2000\n",
    "\n",
    "# the movement area in robot coordinates and image coordinates.\n",
    "robot_coords = np.float32([[120.6, -250.9], [126, 251.5], [349.4, -255.6], [352.2, 251.2]])\n",
    "image_coords = np.float32([[0, 0], [1040, 0], [0, 520], [1040, 520]])\n",
    "\n",
    "# find transformation matrices\n",
    "M, top_points = camera_control.detect_aruco() #create transformation matrix and the top aruco coordinates\n",
    "M_table_to_robot = cv2.getPerspectiveTransform(robot_coords, image_coords)\n",
    "\n",
    "# current time for data collection\n",
    "current_Time = str(datetime.now(timezone.utc))[:-13]\n",
    "success, picked_centers =  [], []"
   ],
   "id": "2f5a71d07b8f51a4",
   "outputs": [],
   "execution_count": null
  },
  {
   "metadata": {},
   "cell_type": "code",
   "outputs": [],
   "execution_count": null,
   "source": [
    "def create_placement(centers, chosen_block):\n",
    "    \n",
    "    randrz = np.random.randint(0, 90) # random rotation, symmetrical cubes\n",
    "    \n",
    "    while True:\n",
    "        # pick a random placement for the block\n",
    "        randx = np.random.randint(200, 300)\n",
    "        randy = np.random.randint(-170, 170)\n",
    "\n",
    "        flag_close = []\n",
    "    \n",
    "        for index in range(len(centers)):\n",
    "            if index == chosen_block: continue\n",
    "            else:\n",
    "                center = centers[index]\n",
    "                flag_close.append((np.abs(randx-center[0]) < 60) and (np.abs(randx-center[0]) > 30))\\\n",
    "                            and (np.abs(randy-center[1]) < 60) and (np.abs(randy-center[1]) > 30)\n",
    "        if np.any(flag_close) or (len(centers) == 1):\n",
    "            break\n",
    "    return np.array([randx, randy, randrz])"
   ],
   "id": "406ee06498763723"
  },
  {
   "metadata": {},
   "cell_type": "code",
   "outputs": [],
   "execution_count": null,
   "source": [
    "def main(i):\n",
    "    while i<2000:\n",
    "        # Save transformed image\n",
    "        camera_control.transform_image(M, True)\n",
    "\n",
    "        # Run the U_2_Net model\n",
    "        u2net.main()\n",
    "\n",
    "        # Separate Instances\n",
    "        blocks = find_instances.run(\"camera_output.jpg\", \"./Segmentation/camera_output.png\")\n",
    "\n",
    "        corners,h_means = top_finder.run(blocks,M_table_to_robot)\n",
    "\n",
    "        centers = []\n",
    "        for set in range(len(corners)):\n",
    "            center = np.average(corners[set], axis=0) - h_means[set]\n",
    "\n",
    "            #Add random noise to the center point\n",
    "            center = center + 10 * np.random.random()\n",
    "\n",
    "            transformed_points = np.squeeze(cv2.perspectiveTransform(np.array(center).reshape(-1, 1, 2), M_table_to_robot))\n",
    "            centers.append(transformed_points)\n",
    "\n",
    "\n",
    "        # pick a random block from the list\n",
    "        chosen_block = np.random.randint(len(centers))\n",
    "        rand_block = np.random.randint(len(centers))\n",
    "        \n",
    "        # pick a random placement for the block that is far/close enough to other blocks\n",
    "        rand_place = create_placement(centers, chosen_block)\n",
    "\n",
    "        row_threshold = int(np.average([top_points[0][1], top_points[1][1]])) # any point above the row threshold is outside the workspace\n",
    "        cols_threshold = np.array([int(top_points[0][0]), int(top_points[1][0])]) # any point outside the column thresholds is outside the workspace\n",
    "\n",
    "\n",
    "        is_picked = block_stack.stack_func(centers[rand_block], rand_place[:2], rand_place[2], row_threshold, cols_threshold)\n",
    "        if is_picked is not None: #didn't crash\n",
    "            i+=1\n",
    "            new_entry = []\n",
    "            new_entry.append(int(is_picked)) #failed or successful pick\n",
    "            new_entry.append(centers[rand_block][0])\n",
    "            \n",
    "            success.append(int(is_picked))s\n",
    "            np.savetxt('Data/' + current_Time + '/label_'+current_Time+'.csv', np.array(success),  fmt='%i', delimiter=',')\n",
    "\n",
    "            cv2.imwrite(\"Data/\" + current_Time + \"/run_number_\" + str(i)+\".jpg\", blocks[rand_block])\n",
    "            full_img = cv2.imread(\"camera_output.jpg\")\n",
    "            cv2.imwrite(\"Data/\" + current_Time + \"/run_number_fullimg\" + str(i) + \".jpg\", cv2.bitwise_and(full_img,full_img, mask=blocks[rand_block]))\n",
    "            picked_centers.append(centers[rand_block])\n",
    "            np.savetxt('Data/' + current_Time + '/picked_centers_' + current_Time + '.csv', np.array(picked_centers), fmt='%i', delimiter=',')\n",
    "\n",
    "        block_stack.complete_clean()\n",
    "        block_stack.set_initial_position()\n",
    "        #return i"
   ],
   "id": "1a86f96a52af4ee7"
  },
  {
   "metadata": {},
   "cell_type": "code",
   "outputs": [],
   "execution_count": null,
   "source": [
    "# Define csv file saves data\n",
    "file_name = 'Collected_Data/' + current_Time + '.csv'\n",
    "\n",
    "with open(file_name, 'w', newline='') as f:\n",
    "    pass"
   ],
   "id": "1d929bda6e46ed55"
  },
  {
   "metadata": {},
   "cell_type": "code",
   "outputs": [],
   "execution_count": null,
   "source": [
    "i = 0\n",
    "while (i<max_iteration): # Error Handler\n",
    "    block_stack.complete_clean() # Clean any errors in the arm\n",
    "    block_stack.set_initial_position() # Set the arm to the initial position at each iteration\n",
    "    \n",
    "    try: # trying to run iterations of block pickups\n",
    "        i = main(i)\n",
    "    except Exception as e:\n",
    "        #TODO\n",
    "        pass"
   ],
   "id": "c210e46cf2f6da1d"
  }
 ],
 "metadata": {
  "kernelspec": {
   "display_name": "Python 3",
   "language": "python",
   "name": "python3"
  },
  "language_info": {
   "codemirror_mode": {
    "name": "ipython",
    "version": 2
   },
   "file_extension": ".py",
   "mimetype": "text/x-python",
   "name": "python",
   "nbconvert_exporter": "python",
   "pygments_lexer": "ipython2",
   "version": "2.7.6"
  }
 },
 "nbformat": 4,
 "nbformat_minor": 5
}
